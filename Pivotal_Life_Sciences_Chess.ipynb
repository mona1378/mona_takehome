{
  "nbformat": 4,
  "nbformat_minor": 0,
  "metadata": {
    "colab": {
      "provenance": []
    },
    "kernelspec": {
      "name": "python3",
      "display_name": "Python 3"
    },
    "language_info": {
      "name": "python"
    }
  },
  "cells": [
    {
      "cell_type": "markdown",
      "source": [
        "Cloning the repository."
      ],
      "metadata": {
        "id": "i3x5BPQvBFf-"
      }
    },
    {
      "cell_type": "code",
      "execution_count": 1,
      "metadata": {
        "colab": {
          "base_uri": "https://localhost:8080/"
        },
        "id": "TWXHOgw-1Gcp",
        "outputId": "4936318e-4494-4d5b-eacc-f55e0736600e"
      },
      "outputs": [
        {
          "output_type": "stream",
          "name": "stdout",
          "text": [
            "Reading package lists... Done\n",
            "Building dependency tree... Done\n",
            "Reading state information... Done\n",
            "git is already the newest version (1:2.34.1-1ubuntu1.10).\n",
            "0 upgraded, 0 newly installed, 0 to remove and 18 not upgraded.\n"
          ]
        }
      ],
      "source": [
        "!apt-get install git\n",
        "!git config --global user.email \"mona.mahmoodi@gmail.com\"\n",
        "!git config --global user.name \"mona1378\""
      ]
    },
    {
      "cell_type": "code",
      "source": [
        "!git clone https://github.com/Pivotal-Life-Sciences-DS/mona_takehome"
      ],
      "metadata": {
        "colab": {
          "base_uri": "https://localhost:8080/"
        },
        "id": "8DjaidxP1Jjf",
        "outputId": "e8e10539-74ab-42c0-ce77-2e2ca3964c53"
      },
      "execution_count": 2,
      "outputs": [
        {
          "output_type": "stream",
          "name": "stdout",
          "text": [
            "Cloning into 'mona_takehome'...\n",
            "remote: Enumerating objects: 8, done.\u001b[K\n",
            "remote: Counting objects: 100% (8/8), done.\u001b[K\n",
            "remote: Compressing objects: 100% (8/8), done.\u001b[K\n",
            "remote: Total 8 (delta 1), reused 3 (delta 0), pack-reused 0\u001b[K\n",
            "Receiving objects: 100% (8/8), 866.69 KiB | 2.79 MiB/s, done.\n",
            "Resolving deltas: 100% (1/1), done.\n"
          ]
        }
      ]
    },
    {
      "cell_type": "code",
      "source": [
        "%cd mona_takehome/"
      ],
      "metadata": {
        "colab": {
          "base_uri": "https://localhost:8080/"
        },
        "id": "lz4kMG711iF6",
        "outputId": "b6b634ff-a610-4716-c76b-ea5ee689597e"
      },
      "execution_count": 3,
      "outputs": [
        {
          "output_type": "stream",
          "name": "stdout",
          "text": [
            "/content/mona_takehome\n"
          ]
        }
      ]
    },
    {
      "cell_type": "markdown",
      "source": [
        "Reading the chess data."
      ],
      "metadata": {
        "id": "qSH4OoStBKau"
      }
    },
    {
      "cell_type": "code",
      "source": [
        "import pandas as pd\n",
        "\n",
        "# Load the CSV file into a DataFrame\n",
        "df = pd.read_csv('chess_games.csv', delimiter='\\t')\n",
        "\n",
        "# Display the first few rows to understand the structure\n",
        "print(df.head())\n",
        "print(df.shape)\n",
        "df['black_opening_score'].describe()"
      ],
      "metadata": {
        "colab": {
          "base_uri": "https://localhost:8080/"
        },
        "id": "kDCmoF1f83Oc",
        "outputId": "5b6409f2-e7b5-45f2-fc23-ed44edec82bd"
      },
      "execution_count": 11,
      "outputs": [
        {
          "output_type": "stream",
          "name": "stdout",
          "text": [
            "    timestamp  outcome  moves_count white_username  white_rating  \\\n",
            "0  1630368486        0           64  ieshuaganocry          1901   \n",
            "1  1630524120        1           20      endriu777          1870   \n",
            "2  1630522980        0           40     hooligandi          1808   \n",
            "3  1630522530        1           34  ieshuaganocry          1901   \n",
            "4  1630522212        0           57     hooligandi          1808   \n",
            "\n",
            "  black_username  black_rating time_class          service  \\\n",
            "0        jdlax36          1869      blitz  SERVICE_LICHESS   \n",
            "1  ieshuaganocry          1895      blitz  SERVICE_LICHESS   \n",
            "2  ieshuaganocry          1901      blitz  SERVICE_LICHESS   \n",
            "3     hooligandi          1808      blitz  SERVICE_LICHESS   \n",
            "4  ieshuaganocry          1901      blitz  SERVICE_LICHESS   \n",
            "\n",
            "                                       eco_name  ...  \\\n",
            "0               Queen's Pawn Game: Mason Attack  ...   \n",
            "1  King's Gambit Accepted, King's Knight Gambit  ...   \n",
            "2  Four Knights Game: Scotch Variation Accepted  ...   \n",
            "3          Sicilian Defense: Accelerated Dragon  ...   \n",
            "4             French Defense: Advance Variation  ...   \n",
            "\n",
            "  black_blunders_per_middlegame black_blunders_per_endgame  \\\n",
            "0                        0.1000                     0.0833   \n",
            "1                        0.0833                       None   \n",
            "2                        0.1500                     0.0000   \n",
            "3                        0.0000                     0.2000   \n",
            "4                        0.1765                     0.0312   \n",
            "\n",
            "  black_endgame_winrate  black_endgame_winrate_with_equal  \\\n",
            "0                1.0000                              None   \n",
            "1                  None                              None   \n",
            "2                1.0000                              None   \n",
            "3                0.0000                            0.0000   \n",
            "4                1.0000                            1.0000   \n",
            "\n",
            "   black_endgame_winrate_with_advantage  \\\n",
            "0                                1.0000   \n",
            "1                                  None   \n",
            "2                                1.0000   \n",
            "3                                  None   \n",
            "4                                  None   \n",
            "\n",
            "  black_endgame_winrate_with_disadvantage black_long_thinking_outcome_score  \\\n",
            "0                                    None                            0.6000   \n",
            "1                                    None                              None   \n",
            "2                                    None                            0.6667   \n",
            "3                                    None                              None   \n",
            "4                                    None                              None   \n",
            "\n",
            "   black_time_advantage_score  black_significant_time_advantage_winrate  \\\n",
            "0                      0.4228                                      None   \n",
            "1                      0.0000                                      None   \n",
            "2                      0.0130                                      None   \n",
            "3                      1.0000                                         0   \n",
            "4                      0.1284                                      None   \n",
            "\n",
            "   black_significant_time_disadvantage_winrate  \n",
            "0                                            1  \n",
            "1                                         None  \n",
            "2                                            1  \n",
            "3                                         None  \n",
            "4                                         None  \n",
            "\n",
            "[5 rows x 62 columns]\n",
            "(1000, 62)\n"
          ]
        },
        {
          "output_type": "execute_result",
          "data": {
            "text/plain": [
              "count    1000.000000\n",
              "mean        0.772000\n",
              "std         0.419753\n",
              "min         0.000000\n",
              "25%         1.000000\n",
              "50%         1.000000\n",
              "75%         1.000000\n",
              "max         1.000000\n",
              "Name: black_opening_score, dtype: float64"
            ]
          },
          "metadata": {},
          "execution_count": 11
        }
      ]
    },
    {
      "cell_type": "markdown",
      "source": [
        "Checking the outcome, and discovering values based on the white and black ratings:\n",
        "\n",
        "0: Black wins\n",
        "\n",
        "1: White wins\n",
        "\n",
        "2: Draw"
      ],
      "metadata": {
        "id": "ipW6H0O9BOoX"
      }
    },
    {
      "cell_type": "code",
      "source": [
        "print(df[\"outcome\"].unique())\n",
        "df['rating_difference'] = df['white_rating'] - df['black_rating']\n",
        "average_white_rating_per_outcome = df.groupby('outcome')['white_rating'].mean()\n",
        "average_black_rating_per_outcome = df.groupby('outcome')['black_rating'].mean()\n",
        "average_diff_rating_per_outcome = df.groupby('outcome')['rating_difference'].mean()\n",
        "print(\"average_white_rating_per_outcome: \", average_white_rating_per_outcome)\n",
        "print(\"average_black_rating_per_outcome: \", average_black_rating_per_outcome)\n",
        "print(\"average_diff_rating_per_outcome: \", average_diff_rating_per_outcome)"
      ],
      "metadata": {
        "colab": {
          "base_uri": "https://localhost:8080/"
        },
        "id": "cEcf-DGb_W-p",
        "outputId": "c8512e8f-0cd6-45b1-df6e-bdf7e59e40e3"
      },
      "execution_count": 5,
      "outputs": [
        {
          "output_type": "stream",
          "name": "stdout",
          "text": [
            "[0 1 2]\n",
            "average_white_rating_per_outcome:  outcome\n",
            "0    1900.094218\n",
            "1    1927.493802\n",
            "2    1943.265306\n",
            "Name: white_rating, dtype: float64\n",
            "average_black_rating_per_outcome:  outcome\n",
            "0    1927.094218\n",
            "1    1912.568182\n",
            "2    1935.979592\n",
            "Name: black_rating, dtype: float64\n",
            "average_diff_rating_per_outcome:  outcome\n",
            "0   -27.000000\n",
            "1    14.925620\n",
            "2     7.285714\n",
            "Name: rating_difference, dtype: float64\n"
          ]
        }
      ]
    },
    {
      "cell_type": "markdown",
      "source": [
        "Separating black and white playes as two separate data points. This will help increase the data size for analysis too. We keep the common fields for both."
      ],
      "metadata": {
        "id": "QoUXJDcpFhJP"
      }
    },
    {
      "cell_type": "code",
      "source": [
        "# Finding different column types\n",
        "columns = {\"black\": {}, \"white\": {}, \"common\": []}\n",
        "for column in df.columns:\n",
        "  if column.startswith(\"white\"):\n",
        "    columns[\"white\"][column] = column[6:]\n",
        "  elif column.startswith(\"black\"):\n",
        "    columns[\"black\"][column] = column[6:]\n",
        "  else:\n",
        "    columns[\"common\"].append(column)\n",
        "print(columns)\n",
        "\n",
        "white_df = df[list(columns[\"white\"].keys()) + columns[\"common\"]].copy()  # Add all white-related columns\n",
        "black_df = df[list(columns[\"black\"].keys()) + columns[\"common\"]].copy()  # Add all black-related columns\n",
        "\n",
        "white_df.columns = list(columns[\"white\"].values()) + columns[\"common\"]  # Rename columns to a standard format\n",
        "black_df.columns = list(columns[\"white\"].values()) + columns[\"common\"]  # Rename columns to a standard format\n",
        "\n",
        "# Fix the black features\n",
        "black_df[\"outcome\"] = black_df[\"outcome\"].replace({0: 1, 1: 0})\n",
        "black_df[\"rating_difference\"] = black_df[\"rating_difference\"] * -1\n",
        "\n",
        "# Concatenate both DataFrames\n",
        "player_df = pd.concat([white_df, black_df], ignore_index=True)"
      ],
      "metadata": {
        "colab": {
          "base_uri": "https://localhost:8080/"
        },
        "id": "Oe53t_SZF3r6",
        "outputId": "a2e5a918-864b-4a29-caff-8e6e303eee1a"
      },
      "execution_count": 6,
      "outputs": [
        {
          "output_type": "stream",
          "name": "stdout",
          "text": [
            "{'black': {'black_username': 'username', 'black_rating': 'rating', 'black_acl': 'acl', 'black_opening_score': 'opening_score', 'black_advantage_capitalization_winrate': 'advantage_capitalization_winrate', 'black_resourcefulness_windrawrate': 'resourcefulness_windrawrate', 'black_tactics_score': 'tactics_score', 'black_inaccuracies_per_game': 'inaccuracies_per_game', 'black_inaccuracies_per_opening': 'inaccuracies_per_opening', 'black_inaccuracies_per_middlegame': 'inaccuracies_per_middlegame', 'black_inaccuracies_per_endgame': 'inaccuracies_per_endgame', 'black_mistakes_per_game': 'mistakes_per_game', 'black_mistakes_per_opening': 'mistakes_per_opening', 'black_mistakes_per_middlegame': 'mistakes_per_middlegame', 'black_mistakes_per_endgame': 'mistakes_per_endgame', 'black_blunders_per_game': 'blunders_per_game', 'black_blunders_per_opening': 'blunders_per_opening', 'black_blunders_per_middlegame': 'blunders_per_middlegame', 'black_blunders_per_endgame': 'blunders_per_endgame', 'black_endgame_winrate': 'endgame_winrate', 'black_endgame_winrate_with_equal': 'endgame_winrate_with_equal', 'black_endgame_winrate_with_advantage': 'endgame_winrate_with_advantage', 'black_endgame_winrate_with_disadvantage': 'endgame_winrate_with_disadvantage', 'black_long_thinking_outcome_score': 'long_thinking_outcome_score', 'black_time_advantage_score': 'time_advantage_score', 'black_significant_time_advantage_winrate': 'significant_time_advantage_winrate', 'black_significant_time_disadvantage_winrate': 'significant_time_disadvantage_winrate'}, 'white': {'white_username': 'username', 'white_rating': 'rating', 'white_acl': 'acl', 'white_opening_score': 'opening_score', 'white_advantage_capitalization_winrate': 'advantage_capitalization_winrate', 'white_resourcefulness_windrawrate': 'resourcefulness_windrawrate', 'white_tactics_score': 'tactics_score', 'white_inaccuracies_per_game': 'inaccuracies_per_game', 'white_inaccuracies_per_opening': 'inaccuracies_per_opening', 'white_inaccuracies_per_middlegame': 'inaccuracies_per_middlegame', 'white_inaccuracies_per_endgame': 'inaccuracies_per_endgame', 'white_mistakes_per_game': 'mistakes_per_game', 'white_mistakes_per_opening': 'mistakes_per_opening', 'white_mistakes_per_middlegame': 'mistakes_per_middlegame', 'white_mistakes_per_endgame': 'mistakes_per_endgame', 'white_blunders_per_game': 'blunders_per_game', 'white_blunders_per_opening': 'blunders_per_opening', 'white_blunders_per_middlegame': 'blunders_per_middlegame', 'white_blunders_per_endgame': 'blunders_per_endgame', 'white_endgame_winrate': 'endgame_winrate', 'white_endgame_winrate_with_equal': 'endgame_winrate_with_equal', 'white_endgame_winrate_with_advantage': 'endgame_winrate_with_advantage', 'white_endgame_winrate_with_disadvantage': 'endgame_winrate_with_disadvantage', 'white_long_thinking_outcome_score': 'long_thinking_outcome_score', 'white_time_advantage_score': 'time_advantage_score', 'white_significant_time_advantage_winrate': 'significant_time_advantage_winrate', 'white_significant_time_disadvantage_winrate': 'significant_time_disadvantage_winrate'}, 'common': ['timestamp', 'outcome', 'moves_count', 'time_class', 'service', 'eco_name', 'eco_code', 'eco_category', 'rating_difference']}\n"
          ]
        }
      ]
    },
    {
      "cell_type": "markdown",
      "source": [
        "Defining winning/losing/Maintaining ELO scores\n",
        "\n",
        "Since we only have the starting elo score for the black and white, we need to start with a rule for the definition. My proposed rule based on the above difference averages per outcome\n",
        "\n",
        "\n",
        "*   Winning: The player wins (outcome=1) or the elo score is more than 10 point lower than the opponent (rating_difference < -10) and there's draw (outcome=2)\n",
        "*   Losing: The player loses (outcome=0) or the elo score is more than 10 point higher than the opponent (rating_difference > 10) and there's draw (outcome=2)\n",
        "* Maintating: The elo score diff is less than 10 (-10 <= rating_difference <=10) and there's a draw (outcome=2)\n",
        "\n"
      ],
      "metadata": {
        "id": "3U0q1VcrCzQi"
      }
    },
    {
      "cell_type": "code",
      "source": [
        "# Initialize a new column for performance classification\n",
        "player_df['performance'] = 'Undefined'\n",
        "\n",
        "# Define criteria for white player's perspective\n",
        "wins = (player_df['outcome'] == 1) | ((player_df['rating_difference'] < -10) & (player_df['outcome'] == 2))\n",
        "loses = (player_df['outcome'] == 0) | ((player_df['rating_difference'] > 10) & (player_df['outcome'] == 2))\n",
        "maintains = (abs(player_df['rating_difference']) <= 10) & (player_df['outcome'] == 2)\n",
        "\n",
        "# Update the 'performance' column based on the conditions\n",
        "player_df.loc[wins, 'performance'] = 'Winning'\n",
        "player_df.loc[loses, 'performance'] = 'Losing'\n",
        "player_df.loc[maintains, 'performance'] = 'Maintaining'\n",
        "\n",
        "print(player_df)\n"
      ],
      "metadata": {
        "colab": {
          "base_uri": "https://localhost:8080/"
        },
        "id": "MwaP_3EyJLWN",
        "outputId": "27376b01-67a4-4e42-8ab6-9ea4f0da1b5b"
      },
      "execution_count": 7,
      "outputs": [
        {
          "output_type": "stream",
          "name": "stdout",
          "text": [
            "           username  rating  acl  opening_score  \\\n",
            "0     ieshuaganocry    1901  -29              1   \n",
            "1         endriu777    1870  -15              0   \n",
            "2        hooligandi    1808  -40              1   \n",
            "3     ieshuaganocry    1901   -9              1   \n",
            "4        hooligandi    1808  -25              0   \n",
            "...             ...     ...  ...            ...   \n",
            "1995  ieshuaganocry    1903  -20              1   \n",
            "1996     maxtsourov    1973  -29              0   \n",
            "1997       menenjit    1912   -9              1   \n",
            "1998  pseudoaccount    1893  -40              0   \n",
            "1999  ieshuaganocry    1915  -35              0   \n",
            "\n",
            "     advantage_capitalization_winrate resourcefulness_windrawrate  \\\n",
            "0                                   0                           0   \n",
            "1                                   1                        None   \n",
            "2                                None                           0   \n",
            "3                                   1                           1   \n",
            "4                                   0                           0   \n",
            "...                               ...                         ...   \n",
            "1995                             None                           0   \n",
            "1996                                1                           1   \n",
            "1997                                0                        None   \n",
            "1998                                1                           1   \n",
            "1999                             None                           0   \n",
            "\n",
            "      tactics_score  inaccuracies_per_game  inaccuracies_per_opening  \\\n",
            "0            0.1938                 0.1875                     0.250   \n",
            "1            0.6571                 0.1429                     0.250   \n",
            "2            0.2400                 0.2500                     0.250   \n",
            "3            0.9059                 0.2353                     0.125   \n",
            "4            0.2474                 0.2807                     0.250   \n",
            "...             ...                    ...                       ...   \n",
            "1995         0.6186                 0.1860                     0.125   \n",
            "1996         0.2457                 0.1714                     0.125   \n",
            "1997         0.7290                 0.0968                     0.125   \n",
            "1998         0.3000                 0.2917                     0.375   \n",
            "1999         0.1000                 0.1875                     0.125   \n",
            "\n",
            "     inaccuracies_per_middlegame  ...   timestamp  outcome  moves_count  \\\n",
            "0                         0.2500  ...  1630368486        0           64   \n",
            "1                         0.0769  ...  1630524120        1           20   \n",
            "2                         0.2000  ...  1630522980        0           40   \n",
            "3                         0.3333  ...  1630522530        1           34   \n",
            "4                         0.2778  ...  1630522212        0           57   \n",
            "...                          ...  ...         ...      ...          ...   \n",
            "1995                      0.2222  ...  1643033826        0           44   \n",
            "1996                      0.3333  ...  1643033219        1           35   \n",
            "1997                      0.0870  ...  1643032848        0           32   \n",
            "1998                      0.3056  ...  1643014690        1           48   \n",
            "1999                      0.2500  ...  1643014122        0           16   \n",
            "\n",
            "     time_class          service  \\\n",
            "0         blitz  SERVICE_LICHESS   \n",
            "1         blitz  SERVICE_LICHESS   \n",
            "2         blitz  SERVICE_LICHESS   \n",
            "3         blitz  SERVICE_LICHESS   \n",
            "4         blitz  SERVICE_LICHESS   \n",
            "...         ...              ...   \n",
            "1995      blitz  SERVICE_LICHESS   \n",
            "1996      blitz  SERVICE_LICHESS   \n",
            "1997      blitz  SERVICE_LICHESS   \n",
            "1998      blitz  SERVICE_LICHESS   \n",
            "1999      blitz  SERVICE_LICHESS   \n",
            "\n",
            "                                               eco_name  eco_code  \\\n",
            "0                       Queen's Pawn Game: Mason Attack       D00   \n",
            "1          King's Gambit Accepted, King's Knight Gambit       C37   \n",
            "2          Four Knights Game: Scotch Variation Accepted       C47   \n",
            "3                  Sicilian Defense: Accelerated Dragon       B54   \n",
            "4                     French Defense: Advance Variation       C02   \n",
            "...                                                 ...       ...   \n",
            "1995                Russian Game: Cozio (Lasker) Attack       C42   \n",
            "1996            King's Gambit Accepted, Allgaier Gambit       C39   \n",
            "1997  French Defense: Advance Variation, Paulsen Attack       C02   \n",
            "1998       King's Gambit Accepted, King's Knight Gambit       C34   \n",
            "1999               Four Knights Game: Spanish Variation       C48   \n",
            "\n",
            "                                      eco_category rating_difference  \\\n",
            "0                                Queen's Pawn Game                32   \n",
            "1     King's Gambit Accepted, King's Knight Gambit               -25   \n",
            "2                                Four Knights Game               -93   \n",
            "3                                 Sicilian Defense                93   \n",
            "4                                   French Defense               -93   \n",
            "...                                            ...               ...   \n",
            "1995                                  Russian Game                16   \n",
            "1996       King's Gambit Accepted, Allgaier Gambit                64   \n",
            "1997                                French Defense                -2   \n",
            "1998  King's Gambit Accepted, King's Knight Gambit               -15   \n",
            "1999                             Four Knights Game                -6   \n",
            "\n",
            "     performance  \n",
            "0         Losing  \n",
            "1        Winning  \n",
            "2         Losing  \n",
            "3        Winning  \n",
            "4         Losing  \n",
            "...          ...  \n",
            "1995      Losing  \n",
            "1996     Winning  \n",
            "1997      Losing  \n",
            "1998     Winning  \n",
            "1999      Losing  \n",
            "\n",
            "[2000 rows x 37 columns]\n"
          ]
        }
      ]
    },
    {
      "cell_type": "markdown",
      "source": [
        "Performance distribution shows that maintaining category is really small. So, I'm going to try a different definition.\n"
      ],
      "metadata": {
        "id": "JrMbZxV5MchG"
      }
    },
    {
      "cell_type": "code",
      "source": [
        "import matplotlib.pyplot as plt\n",
        "\n",
        "# Plot the histogram (bar plot)\n",
        "performance_distribution = player_df['performance'].value_counts()\n",
        "print(performance_distribution)\n",
        "performance_distribution.plot(kind='bar')\n",
        "plt.title('Distribution of Player Performance')\n",
        "plt.xlabel('Performance Category')\n",
        "plt.ylabel('Count')\n",
        "plt.xticks(rotation=45)\n",
        "plt.show()\n",
        "\n",
        "# Drop performance as it's not well defined\n",
        "player_df = player_df.drop(columns=['performance'])"
      ],
      "metadata": {
        "id": "Y9IortbrL8DS",
        "colab": {
          "base_uri": "https://localhost:8080/",
          "height": 596
        },
        "outputId": "d7d5dcff-e9a1-4029-9bb0-d60444e05c67"
      },
      "execution_count": 8,
      "outputs": [
        {
          "output_type": "stream",
          "name": "stdout",
          "text": [
            "Losing         992\n",
            "Winning        992\n",
            "Maintaining     16\n",
            "Name: performance, dtype: int64\n"
          ]
        },
        {
          "output_type": "display_data",
          "data": {
            "text/plain": [
              "<Figure size 640x480 with 1 Axes>"
            ],
            "image/png": "[encoded data removed]"
          },
          "metadata": {}
        }
      ]
    },
    {
      "cell_type": "markdown",
      "source": [
        "Just noticed that palyers have a user_name and the games have timestamp so we can relate the players score from different games. Also, looks like ieshuaganocry is always one of the players. So, we can\n",
        "\n",
        "\n",
        "*   Use ieshuaganocry to find the performance value of win/lose/maintain for each timestamp. We can filter out some games who seem to be too far apart based on timestamp as there might have other games happened in the middle.\n",
        "*   Label other users using timestamp matching and reversing win/lose/maintain for ieshuaganocry to lose/win/maintain\n",
        "* subsample ieshuaganocry to prevent over-fitting on this specific player's behavior\n",
        "* Now we can find behavior changes based on the performance by data analysis or fit a model to behavior features as input and the performance as target and then use technique for explainability of the model like LIME and Shapley.\n"
      ],
      "metadata": {
        "id": "rFEKZh7aia-r"
      }
    },
    {
      "cell_type": "code",
      "source": [
        "import numpy as np\n",
        "\n",
        "perf_df = player_df[player_df['username'] == 'ieshuaganocry'][['timestamp', 'outcome', 'rating', 'rating_difference']]\n",
        "perf_df = perf_df.sort_values(by='timestamp')\n",
        "# Create new columns for next timestamp and next player elo score\n",
        "print(perf_df['timestamp'].dtype)\n",
        "print(perf_df['rating'].dtype)\n",
        "perf_df['next_timestamp'] = perf_df['timestamp'].shift(-1)\n",
        "perf_df['next_rating'] = perf_df['rating'].shift(-1)\n",
        "perf_df.replace([np.inf, -np.inf], np.nan, inplace=True)\n",
        "perf_df.dropna(subset=['next_timestamp', 'next_rating'], inplace=True)\n",
        "perf_df['next_timestamp'] = perf_df['next_timestamp'].astype('int64')\n",
        "perf_df['next_rating'] = perf_df['next_rating'].astype('int64')\n",
        "print(perf_df)\n"
      ],
      "metadata": {
        "colab": {
          "base_uri": "https://localhost:8080/"
        },
        "id": "eohjP6fpPJoE",
        "outputId": "cf23c057-8dfa-4525-c66c-71abfbdafad5"
      },
      "execution_count": 14,
      "outputs": [
        {
          "output_type": "stream",
          "name": "stdout",
          "text": [
            "int64\n",
            "int64\n",
            "       timestamp  outcome  rating  rating_difference  next_timestamp  \\\n",
            "0     1630368486        0    1901                 32      1630521672   \n",
            "1006  1630521672        0    1901                 93      1630521800   \n",
            "5     1630521800        1    1901                 93      1630522212   \n",
            "1004  1630522212        1    1901                 93      1630522530   \n",
            "3     1630522530        1    1901                 93      1630522980   \n",
            "...          ...      ...     ...                ...             ...   \n",
            "998   1643014690        0    1908                 15      1643032848   \n",
            "997   1643032848        1    1914                  2      1643033219   \n",
            "996   1643033219        0    1909                -64      1643033826   \n",
            "1995  1643033826        0    1903                 16      1643040375   \n",
            "1994  1643040375        0    1932                 60      1643044152   \n",
            "\n",
            "      next_rating  \n",
            "0            1901  \n",
            "1006         1901  \n",
            "5            1901  \n",
            "1004         1901  \n",
            "3            1901  \n",
            "...           ...  \n",
            "998          1914  \n",
            "997          1909  \n",
            "996          1903  \n",
            "1995         1932  \n",
            "1994         1898  \n",
            "\n",
            "[999 rows x 6 columns]\n"
          ]
        }
      ]
    },
    {
      "cell_type": "markdown",
      "source": [
        "Only keep the games with close enough timestamps"
      ],
      "metadata": {
        "id": "PS_Xh7Dqoxib"
      }
    },
    {
      "cell_type": "code",
      "source": [
        "print(perf_df.shape)\n",
        "perf_df = perf_df[(perf_df['next_timestamp'] - perf_df['timestamp']) < 10000]\n",
        "print(perf_df.shape)\n"
      ],
      "metadata": {
        "colab": {
          "base_uri": "https://localhost:8080/"
        },
        "id": "sXYEqxE9nfBq",
        "outputId": "208cf205-af8c-4ddb-95cd-bf5030273f06"
      },
      "execution_count": 15,
      "outputs": [
        {
          "output_type": "stream",
          "name": "stdout",
          "text": [
            "(999, 6)\n",
            "(739, 6)\n"
          ]
        }
      ]
    },
    {
      "cell_type": "markdown",
      "source": [
        "Define performance as\n",
        "\n",
        "\n",
        "*   1: next_rating > rating (winning)\n",
        "*   0: next_rating = rating (maintaining score)\n",
        "*   -1: next_rating < rating (losing)\n",
        "\n"
      ],
      "metadata": {
        "id": "13YFcvtTrBg1"
      }
    },
    {
      "cell_type": "code",
      "source": [
        "pd.set_option('mode.chained_assignment', None)\n",
        "perf_df.loc[:, 'performance'] = np.sign(perf_df['next_rating'] - perf_df['rating'])\n",
        "print(perf_df)"
      ],
      "metadata": {
        "colab": {
          "base_uri": "https://localhost:8080/"
        },
        "id": "e01b-kUBrZY8",
        "outputId": "1e63d52f-8bc1-489f-8eda-00516c7ea5b1"
      },
      "execution_count": 16,
      "outputs": [
        {
          "output_type": "stream",
          "name": "stdout",
          "text": [
            "       timestamp  outcome  rating  rating_difference  next_timestamp  \\\n",
            "1006  1630521672        0    1901                 93      1630521800   \n",
            "5     1630521800        1    1901                 93      1630522212   \n",
            "1004  1630522212        1    1901                 93      1630522530   \n",
            "3     1630522530        1    1901                 93      1630522980   \n",
            "1002  1630522980        1    1901                 93      1630524120   \n",
            "...          ...      ...     ...                ...             ...   \n",
            "1999  1643014122        0    1915                 -6      1643014690   \n",
            "997   1643032848        1    1914                  2      1643033219   \n",
            "996   1643033219        0    1909                -64      1643033826   \n",
            "1995  1643033826        0    1903                 16      1643040375   \n",
            "1994  1643040375        0    1932                 60      1643044152   \n",
            "\n",
            "      next_rating  performance  \n",
            "1006         1901            0  \n",
            "5            1901            0  \n",
            "1004         1901            0  \n",
            "3            1901            0  \n",
            "1002         1895           -1  \n",
            "...           ...          ...  \n",
            "1999         1908           -1  \n",
            "997          1909           -1  \n",
            "996          1903           -1  \n",
            "1995         1932            1  \n",
            "1994         1898           -1  \n",
            "\n",
            "[739 rows x 7 columns]\n"
          ]
        }
      ]
    }
  ]
}